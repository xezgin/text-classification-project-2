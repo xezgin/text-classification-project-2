{
 "cells": [
  {
   "cell_type": "code",
   "execution_count": 1,
   "metadata": {},
   "outputs": [],
   "source": [
    "import numpy as np\n",
    "import pandas as pd\n",
    "import matplotlib.pyplot as plt\n",
    "import nltk\n",
    "import string\n",
    "import re\n",
    "%matplotlib inline"
   ]
  },
  {
   "cell_type": "code",
   "execution_count": 2,
   "metadata": {},
   "outputs": [
    {
     "name": "stdout",
     "output_type": "stream",
     "text": [
      "<class 'pandas.core.frame.DataFrame'>\n",
      "RangeIndex: 272216 entries, 0 to 272215\n",
      "Data columns (total 3 columns):\n",
      " #   Column  Non-Null Count   Dtype \n",
      "---  ------  --------------   ----- \n",
      " 0   Rating  272216 non-null  int64 \n",
      " 1   Review  272216 non-null  object\n",
      " 2   URL     272216 non-null  object\n",
      "dtypes: int64(1), object(2)\n",
      "memory usage: 6.2+ MB\n"
     ]
    }
   ],
   "source": [
    "#veritabanının eklenmesi\n",
    "df = pd.DataFrame()\n",
    "df = pd.read_csv(\"hb.csv\")\n",
    "df.columns =['Rating', 'Review', 'URL']\n",
    "#df = df.head(10000)\n",
    "df.info()"
   ]
  },
  {
   "cell_type": "code",
   "execution_count": 3,
   "metadata": {},
   "outputs": [
    {
     "data": {
      "text/html": [
       "<div>\n",
       "<style scoped>\n",
       "    .dataframe tbody tr th:only-of-type {\n",
       "        vertical-align: middle;\n",
       "    }\n",
       "\n",
       "    .dataframe tbody tr th {\n",
       "        vertical-align: top;\n",
       "    }\n",
       "\n",
       "    .dataframe thead th {\n",
       "        text-align: right;\n",
       "    }\n",
       "</style>\n",
       "<table border=\"1\" class=\"dataframe\">\n",
       "  <thead>\n",
       "    <tr style=\"text-align: right;\">\n",
       "      <th></th>\n",
       "      <th>Rating</th>\n",
       "      <th>Review</th>\n",
       "      <th>URL</th>\n",
       "    </tr>\n",
       "  </thead>\n",
       "  <tbody>\n",
       "    <tr>\n",
       "      <th>0</th>\n",
       "      <td>5</td>\n",
       "      <td>3 yıldır tık demedi. :)</td>\n",
       "      <td>https://www.hepsiburada.com/logitech-m175-kabl...</td>\n",
       "    </tr>\n",
       "    <tr>\n",
       "      <th>1</th>\n",
       "      <td>5</td>\n",
       "      <td>3 yıldır kullanıyorum müthiş</td>\n",
       "      <td>https://www.hepsiburada.com/logitech-m175-kabl...</td>\n",
       "    </tr>\n",
       "    <tr>\n",
       "      <th>2</th>\n",
       "      <td>4</td>\n",
       "      <td>Ürün bugün elime geçti çok fazla inceleme fırs...</td>\n",
       "      <td>https://www.hepsiburada.com/logitech-m175-kabl...</td>\n",
       "    </tr>\n",
       "    <tr>\n",
       "      <th>3</th>\n",
       "      <td>4</td>\n",
       "      <td>Almaya karar verdim. Hemencecik geldi. Keyifle...</td>\n",
       "      <td>https://www.hepsiburada.com/logitech-m175-kabl...</td>\n",
       "    </tr>\n",
       "    <tr>\n",
       "      <th>4</th>\n",
       "      <td>5</td>\n",
       "      <td>Günlük kullanımınızı çok çok iyi karsılıyor kı...</td>\n",
       "      <td>https://www.hepsiburada.com/logitech-m175-kabl...</td>\n",
       "    </tr>\n",
       "    <tr>\n",
       "      <th>...</th>\n",
       "      <td>...</td>\n",
       "      <td>...</td>\n",
       "      <td>...</td>\n",
       "    </tr>\n",
       "    <tr>\n",
       "      <th>272211</th>\n",
       "      <td>5</td>\n",
       "      <td>fiyatına göre güzel</td>\n",
       "      <td>https://www.hepsiburada.com/samsung-galaxy-gra...</td>\n",
       "    </tr>\n",
       "    <tr>\n",
       "      <th>272212</th>\n",
       "      <td>5</td>\n",
       "      <td>Ürün kullanışlı iş görüyor fazlasıyla eşime al...</td>\n",
       "      <td>https://www.hepsiburada.com/samsung-galaxy-gra...</td>\n",
       "    </tr>\n",
       "    <tr>\n",
       "      <th>272213</th>\n",
       "      <td>5</td>\n",
       "      <td>Hızlı Kargo, güzel ürün</td>\n",
       "      <td>https://www.hepsiburada.com/samsung-galaxy-gra...</td>\n",
       "    </tr>\n",
       "    <tr>\n",
       "      <th>272214</th>\n",
       "      <td>5</td>\n",
       "      <td>telefon başarılı hızlı bir cihaz  sadece beyaz...</td>\n",
       "      <td>https://www.hepsiburada.com/samsung-galaxy-gra...</td>\n",
       "    </tr>\n",
       "    <tr>\n",
       "      <th>272215</th>\n",
       "      <td>4</td>\n",
       "      <td>Urun cok guzel pazar gunu siparis verdim adana...</td>\n",
       "      <td>https://www.hepsiburada.com/samsung-galaxy-gra...</td>\n",
       "    </tr>\n",
       "  </tbody>\n",
       "</table>\n",
       "<p>272216 rows × 3 columns</p>\n",
       "</div>"
      ],
      "text/plain": [
       "        Rating                                             Review  \\\n",
       "0            5                            3 yıldır tık demedi. :)   \n",
       "1            5                      3 yıldır kullanıyorum müthiş    \n",
       "2            4  Ürün bugün elime geçti çok fazla inceleme fırs...   \n",
       "3            4  Almaya karar verdim. Hemencecik geldi. Keyifle...   \n",
       "4            5  Günlük kullanımınızı çok çok iyi karsılıyor kı...   \n",
       "...        ...                                                ...   \n",
       "272211       5                                fiyatına göre güzel   \n",
       "272212       5  Ürün kullanışlı iş görüyor fazlasıyla eşime al...   \n",
       "272213       5                            Hızlı Kargo, güzel ürün   \n",
       "272214       5  telefon başarılı hızlı bir cihaz  sadece beyaz...   \n",
       "272215       4  Urun cok guzel pazar gunu siparis verdim adana...   \n",
       "\n",
       "                                                      URL  \n",
       "0       https://www.hepsiburada.com/logitech-m175-kabl...  \n",
       "1       https://www.hepsiburada.com/logitech-m175-kabl...  \n",
       "2       https://www.hepsiburada.com/logitech-m175-kabl...  \n",
       "3       https://www.hepsiburada.com/logitech-m175-kabl...  \n",
       "4       https://www.hepsiburada.com/logitech-m175-kabl...  \n",
       "...                                                   ...  \n",
       "272211  https://www.hepsiburada.com/samsung-galaxy-gra...  \n",
       "272212  https://www.hepsiburada.com/samsung-galaxy-gra...  \n",
       "272213  https://www.hepsiburada.com/samsung-galaxy-gra...  \n",
       "272214  https://www.hepsiburada.com/samsung-galaxy-gra...  \n",
       "272215  https://www.hepsiburada.com/samsung-galaxy-gra...  \n",
       "\n",
       "[272216 rows x 3 columns]"
      ]
     },
     "execution_count": 3,
     "metadata": {},
     "output_type": "execute_result"
    }
   ],
   "source": [
    "df"
   ]
  },
  {
   "cell_type": "code",
   "execution_count": 4,
   "metadata": {},
   "outputs": [],
   "source": [
    "def mentionRemove(text):\n",
    "    text = re.sub(r'@\\w+', '', text)#mentionların çıkartırılması\n",
    "    return text"
   ]
  },
  {
   "cell_type": "code",
   "execution_count": 5,
   "metadata": {},
   "outputs": [],
   "source": [
    "for i in range(0,len(df['Review'])):\n",
    "    text = df['Review'][i]\n",
    "    text = text.lower()\n",
    "    text = mentionRemove(text)\n",
    "    df.at[i,'Review'] = text"
   ]
  },
  {
   "cell_type": "code",
   "execution_count": 6,
   "metadata": {},
   "outputs": [],
   "source": [
    "def siteRemove(text):\n",
    "    text = re.sub(r'http.?://[^\\s]+[\\s]?', '', text)#bağlantıların çıkarılması\n",
    "    return text"
   ]
  },
  {
   "cell_type": "code",
   "execution_count": 7,
   "metadata": {},
   "outputs": [],
   "source": [
    "for i in range(0,len(df['Review'])):\n",
    "    text = df['Review'][i]\n",
    "    text = siteRemove(text)\n",
    "    df.at[i,'Review'] = text"
   ]
  },
  {
   "cell_type": "code",
   "execution_count": 8,
   "metadata": {},
   "outputs": [],
   "source": [
    "def puncRemove(text):\n",
    "    text = re.sub('[^a-zığüşiöç\\s]', '', text)#özel karakterlerin ve sayıların çıkarılması\n",
    "    text = re.sub(r\"Â\", \"A\", text)#umlautlu karakterlerinn değiştirilmesi\n",
    "    text = re.sub(r\"â\", \"a\", text)\n",
    "    text = re.sub(r\"Î\", \"I\", text)\n",
    "    text = re.sub(r\"î\", \"ı\", text)\n",
    "    text = re.sub(r\"Û\", \"U\", text)\n",
    "    text = re.sub(r\"û\", \"u\", text)\n",
    "\n",
    "    return text"
   ]
  },
  {
   "cell_type": "code",
   "execution_count": 9,
   "metadata": {},
   "outputs": [],
   "source": [
    "for i in range(0,len(df['Review'])):\n",
    "    text = df['Review'][i]\n",
    "    text = puncRemove(text)\n",
    "    df.at[i,'Review'] = text"
   ]
  },
  {
   "cell_type": "code",
   "execution_count": 10,
   "metadata": {},
   "outputs": [],
   "source": [
    "def emojiRemove(text):\n",
    "    # Smile -- :), : ), :-), (:, ( :, (-:, :')\n",
    "    text = re.sub(r'(:\\s?\\)|:-\\)|\\(\\s?:|\\(-:|:\\'\\))', ' EMO_POS ', text)\n",
    "    # Laugh -- :D, : D, :-D, xD, x-D, XD, X-D\n",
    "    text = re.sub(r'(:\\s?D|:-D|x-?D|X-?D)', ' EMO_POS ', text)\n",
    "    # Love -- <3, :*\n",
    "    text = re.sub(r'(<3|:\\*)', ' EMO_POS ', text)\n",
    "    # Wink -- ;-), ;), ;-D, ;D, (;,  (-;\n",
    "    text = re.sub(r'(;-?\\)|;-?D|\\(-?;)', ' EMO_POS ', text)\n",
    "    # Sad -- :-(, : (, :(, ):, )-:\n",
    "    text = re.sub(r'(:\\s?\\(|:-\\(|\\)\\s?:|\\)-:)', ' EMO_NEG ', text)\n",
    "    # Cry -- :,(, :'(, :\"(\n",
    "    text = re.sub(r'(:,\\(|:\\'\\(|:\"\\()', ' EMO_NEG ', text)\n",
    "    return text"
   ]
  },
  {
   "cell_type": "code",
   "execution_count": 11,
   "metadata": {},
   "outputs": [],
   "source": [
    "# java virtual machine kullanılarak zemberek uygulaması ile tokenization ve stemming yapıldı\n",
    "import zemberek\n",
    "from jpype import JClass, JString, getDefaultJVMPath, shutdownJVM, startJVM, java\n",
    "#Zemberek kütüphanesinin kullanılabilmesi için Jpype ile JVM oluşturulması\n",
    "ZEMBEREK_PATH = r'zemberek-full.jar'\n",
    "startJVM(getDefaultJVMPath(), '-ea', '-Djava.class.path=%s' % (ZEMBEREK_PATH))\n",
    "#Morphology kütüphanesini kullanacağımızdan burada oluşturuyoruz\n",
    "TurkishMorphology = JClass('zemberek.morphology.TurkishMorphology')\n",
    "morphology = TurkishMorphology.createWithDefaults()\n",
    "\n",
    "# java virtual machine kullanılarak zemberek uygulaması ile tokenization ve stemming yapıldı\n",
    "def stem_vm(text):\n",
    "    arr=[]\n",
    "    textlist=text.split(\" \")\n",
    "    if(text=='        '):\n",
    "        text='bos'\n",
    "    analysis: java.util.ArrayList = ( morphology.analyzeAndDisambiguate(text).bestAnalysis() )\n",
    "    for i, analysis in enumerate(analysis, start=1):\n",
    "        f'\\nAnalysis {i}: {analysis}',\n",
    "        f'\\nPrimary POS {i}: {analysis.getPos()}' \n",
    "        arr.append(f'{str(analysis.getLemmas()[0])}')\n",
    "    return arr"
   ]
  },
  {
   "cell_type": "code",
   "execution_count": 12,
   "metadata": {},
   "outputs": [],
   "source": [
    "def rootFinder(text):\n",
    "    pos=[]\n",
    "    textlist=text.split(\" \")\n",
    "    analysis: java.util.ArrayList = ( morphology.analyzeAndDisambiguate(text).bestAnalysis() )\n",
    "    for i, analysis in enumerate(analysis, start=1):\n",
    "        f'\\nAnalysis {i}: {analysis}',\n",
    "        f'\\nPrimary POS {i}: {analysis.getPos()}' \n",
    "        if (str(analysis.getLemmas()[0]) == \"UNK\"):\n",
    "            pos.append(textlist[i-1])\n",
    "        else:     \n",
    "            pos.append(f'{str(analysis.getLemmas()[0])}')\n",
    "    return pos"
   ]
  },
  {
   "cell_type": "code",
   "execution_count": 13,
   "metadata": {},
   "outputs": [],
   "source": [
    "for i in range(0,len(df['Review'])):\n",
    "    text = df['Review'][i]\n",
    "    text = rootFinder(text)\n",
    "    text=' '.join(text)\n",
    "    df.at[i,'Review'] = text"
   ]
  },
  {
   "cell_type": "code",
   "execution_count": 14,
   "metadata": {},
   "outputs": [],
   "source": [
    "from nltk.tokenize import word_tokenize\n",
    "\n",
    "stopwords = np.loadtxt(\"stopwords.txt\", dtype=str)\n",
    "def stopwords_sil(text):\n",
    "    text_tokenize = word_tokenize(text)\n",
    "    text = [word for word in text_tokenize if not word in stopwords]\n",
    "    return text"
   ]
  },
  {
   "cell_type": "code",
   "execution_count": 15,
   "metadata": {},
   "outputs": [],
   "source": [
    "for i in range(0,len(df['Review'])):\n",
    "    text = df['Review'][i]\n",
    "    text = stopwords_sil(text)\n",
    "    text=' '.join(text)\n",
    "    df.at[i,'Review'] = text"
   ]
  },
  {
   "cell_type": "code",
   "execution_count": 17,
   "metadata": {},
   "outputs": [
    {
     "name": "stdout",
     "output_type": "stream",
     "text": [
      "<class 'pandas.core.frame.DataFrame'>\n",
      "RangeIndex: 272216 entries, 0 to 272215\n",
      "Data columns (total 3 columns):\n",
      " #   Column  Non-Null Count   Dtype \n",
      "---  ------  --------------   ----- \n",
      " 0   Rating  272216 non-null  int64 \n",
      " 1   Review  272216 non-null  object\n",
      " 2   URL     272216 non-null  object\n",
      "dtypes: int64(1), object(2)\n",
      "memory usage: 6.2+ MB\n"
     ]
    }
   ],
   "source": [
    "df.info()"
   ]
  },
  {
   "cell_type": "code",
   "execution_count": 18,
   "metadata": {},
   "outputs": [
    {
     "data": {
      "text/html": [
       "<div>\n",
       "<style scoped>\n",
       "    .dataframe tbody tr th:only-of-type {\n",
       "        vertical-align: middle;\n",
       "    }\n",
       "\n",
       "    .dataframe tbody tr th {\n",
       "        vertical-align: top;\n",
       "    }\n",
       "\n",
       "    .dataframe thead th {\n",
       "        text-align: right;\n",
       "    }\n",
       "</style>\n",
       "<table border=\"1\" class=\"dataframe\">\n",
       "  <thead>\n",
       "    <tr style=\"text-align: right;\">\n",
       "      <th></th>\n",
       "      <th>Rating</th>\n",
       "      <th>Review</th>\n",
       "      <th>URL</th>\n",
       "    </tr>\n",
       "  </thead>\n",
       "  <tbody>\n",
       "    <tr>\n",
       "      <th>0</th>\n",
       "      <td>5</td>\n",
       "      <td>yıl tık de</td>\n",
       "      <td>https://www.hepsiburada.com/logitech-m175-kabl...</td>\n",
       "    </tr>\n",
       "    <tr>\n",
       "      <th>1</th>\n",
       "      <td>5</td>\n",
       "      <td>yıl kullan müthiş</td>\n",
       "      <td>https://www.hepsiburada.com/logitech-m175-kabl...</td>\n",
       "    </tr>\n",
       "    <tr>\n",
       "      <th>2</th>\n",
       "      <td>4</td>\n",
       "      <td>ürün bugün el geç çok fazla incele fırsat ol g...</td>\n",
       "      <td>https://www.hepsiburada.com/logitech-m175-kabl...</td>\n",
       "    </tr>\n",
       "    <tr>\n",
       "      <th>3</th>\n",
       "      <td>4</td>\n",
       "      <td>al karar ver hemencecik gel keyif kullan</td>\n",
       "      <td>https://www.hepsiburada.com/logitech-m175-kabl...</td>\n",
       "    </tr>\n",
       "    <tr>\n",
       "      <th>4</th>\n",
       "      <td>5</td>\n",
       "      <td>günlük kullanım çok çok iyi karsılıyor kısaç m...</td>\n",
       "      <td>https://www.hepsiburada.com/logitech-m175-kabl...</td>\n",
       "    </tr>\n",
       "    <tr>\n",
       "      <th>...</th>\n",
       "      <td>...</td>\n",
       "      <td>...</td>\n",
       "      <td>...</td>\n",
       "    </tr>\n",
       "    <tr>\n",
       "      <th>272211</th>\n",
       "      <td>5</td>\n",
       "      <td>fiyat göre güzel</td>\n",
       "      <td>https://www.hepsiburada.com/samsung-galaxy-gra...</td>\n",
       "    </tr>\n",
       "    <tr>\n",
       "      <th>272212</th>\n",
       "      <td>5</td>\n",
       "      <td>ürün kullan iş gör fazlasıyla eş aldi cok memn...</td>\n",
       "      <td>https://www.hepsiburada.com/samsung-galaxy-gra...</td>\n",
       "    </tr>\n",
       "    <tr>\n",
       "      <th>272213</th>\n",
       "      <td>5</td>\n",
       "      <td>hız kargo güzel ürün</td>\n",
       "      <td>https://www.hepsiburada.com/samsung-galaxy-gra...</td>\n",
       "    </tr>\n",
       "    <tr>\n",
       "      <th>272214</th>\n",
       "      <td>5</td>\n",
       "      <td>telefon başarı hız cihaz beyaz iste gri renk gel</td>\n",
       "      <td>https://www.hepsiburada.com/samsung-galaxy-gra...</td>\n",
       "    </tr>\n",
       "    <tr>\n",
       "      <th>272215</th>\n",
       "      <td>4</td>\n",
       "      <td>ur cok guzel pazar gun siparis ver adana sali ...</td>\n",
       "      <td>https://www.hepsiburada.com/samsung-galaxy-gra...</td>\n",
       "    </tr>\n",
       "  </tbody>\n",
       "</table>\n",
       "<p>272216 rows × 3 columns</p>\n",
       "</div>"
      ],
      "text/plain": [
       "        Rating                                             Review  \\\n",
       "0            5                                         yıl tık de   \n",
       "1            5                                  yıl kullan müthiş   \n",
       "2            4  ürün bugün el geç çok fazla incele fırsat ol g...   \n",
       "3            4           al karar ver hemencecik gel keyif kullan   \n",
       "4            5  günlük kullanım çok çok iyi karsılıyor kısaç m...   \n",
       "...        ...                                                ...   \n",
       "272211       5                                   fiyat göre güzel   \n",
       "272212       5  ürün kullan iş gör fazlasıyla eş aldi cok memn...   \n",
       "272213       5                               hız kargo güzel ürün   \n",
       "272214       5   telefon başarı hız cihaz beyaz iste gri renk gel   \n",
       "272215       4  ur cok guzel pazar gun siparis ver adana sali ...   \n",
       "\n",
       "                                                      URL  \n",
       "0       https://www.hepsiburada.com/logitech-m175-kabl...  \n",
       "1       https://www.hepsiburada.com/logitech-m175-kabl...  \n",
       "2       https://www.hepsiburada.com/logitech-m175-kabl...  \n",
       "3       https://www.hepsiburada.com/logitech-m175-kabl...  \n",
       "4       https://www.hepsiburada.com/logitech-m175-kabl...  \n",
       "...                                                   ...  \n",
       "272211  https://www.hepsiburada.com/samsung-galaxy-gra...  \n",
       "272212  https://www.hepsiburada.com/samsung-galaxy-gra...  \n",
       "272213  https://www.hepsiburada.com/samsung-galaxy-gra...  \n",
       "272214  https://www.hepsiburada.com/samsung-galaxy-gra...  \n",
       "272215  https://www.hepsiburada.com/samsung-galaxy-gra...  \n",
       "\n",
       "[272216 rows x 3 columns]"
      ]
     },
     "execution_count": 18,
     "metadata": {},
     "output_type": "execute_result"
    }
   ],
   "source": [
    "df"
   ]
  },
  {
   "cell_type": "code",
   "execution_count": null,
   "metadata": {},
   "outputs": [],
   "source": []
  }
 ],
 "metadata": {
  "kernelspec": {
   "display_name": "Python 3",
   "language": "python",
   "name": "python3"
  },
  "language_info": {
   "codemirror_mode": {
    "name": "ipython",
    "version": 3
   },
   "file_extension": ".py",
   "mimetype": "text/x-python",
   "name": "python",
   "nbconvert_exporter": "python",
   "pygments_lexer": "ipython3",
   "version": "3.8.3"
  }
 },
 "nbformat": 4,
 "nbformat_minor": 4
}
